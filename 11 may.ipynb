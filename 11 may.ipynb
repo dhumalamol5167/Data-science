{
    "nbformat_minor": 1, 
    "cells": [
        {
            "execution_count": 2, 
            "cell_type": "code", 
            "metadata": {}, 
            "outputs": [], 
            "source": "with open(\"example.txt\",\"w\") as file:\n    file.write(\"Hellow world\")"
        }, 
        {
            "execution_count": 3, 
            "cell_type": "code", 
            "metadata": {}, 
            "outputs": [
                {
                    "output_type": "stream", 
                    "name": "stdout", 
                    "text": "example.txt\r\n"
                }
            ], 
            "source": "!ls"
        }, 
        {
            "execution_count": 4, 
            "cell_type": "code", 
            "metadata": {}, 
            "outputs": [
                {
                    "output_type": "stream", 
                    "name": "stdout", 
                    "text": "Hellow world\n"
                }
            ], 
            "source": "with open(\"example.txt\",\"r\") as file:\n    print(file.read())"
        }, 
        {
            "execution_count": 9, 
            "cell_type": "code", 
            "metadata": {}, 
            "outputs": [], 
            "source": "with open(\"example.txt\",\"a\") as file:\n    file.write(\"\\nHellow jupyter\")\n    file.write(\"\\nData science\")"
        }, 
        {
            "execution_count": 11, 
            "cell_type": "code", 
            "metadata": {}, 
            "outputs": [
                {
                    "output_type": "stream", 
                    "name": "stdout", 
                    "text": "Hellow worldHellow jupyter\nHellow jupyter\nHellow jupyter\nData science\n\n"
                }
            ], 
            "source": "with open(\"example.txt\",\"r\") as file:\n    print(file.read())\n    print(file.readline())"
        }, 
        {
            "execution_count": 12, 
            "cell_type": "code", 
            "metadata": {}, 
            "outputs": [
                {
                    "output_type": "stream", 
                    "name": "stdout", 
                    "text": "Hellow worldHellow jupyter\n\nHellow jupyter\n\n"
                }
            ], 
            "source": "with open(\"example.txt\",\"r\") as file:\n    print(file.readline())\n    print(file.readline())"
        }, 
        {
            "execution_count": 14, 
            "cell_type": "code", 
            "metadata": {}, 
            "outputs": [
                {
                    "output_type": "stream", 
                    "name": "stdout", 
                    "text": "Hellow wor\nldHel\n"
                }
            ], 
            "source": "with open(\"example.txt\",\"r\") as file:\n    print(file.read(10))\n    print(file.read(5))"
        }, 
        {
            "execution_count": 18, 
            "cell_type": "code", 
            "metadata": {}, 
            "outputs": [], 
            "source": "list=[\"this is line 1\",\"is line 2\"]\nwith open(\"example1.txt\",\"a\") as file:\n    for line in list:\n        file.write(line)"
        }, 
        {
            "execution_count": 19, 
            "cell_type": "code", 
            "metadata": {}, 
            "outputs": [
                {
                    "output_type": "stream", 
                    "name": "stdout", 
                    "text": "this is line 1this is line 2this is line 1is line 2\n"
                }
            ], 
            "source": "with open(\"example1.txt\",\"r\") as file:\n    print(file.read())"
        }, 
        {
            "execution_count": 21, 
            "cell_type": "code", 
            "metadata": {}, 
            "outputs": [], 
            "source": "list=[\"this is line1\\n\",\"this is line2\"]\nwith open(\"example2.txt\",\"a\") as file:\n    file.writelines(list)"
        }, 
        {
            "execution_count": 22, 
            "cell_type": "code", 
            "metadata": {}, 
            "outputs": [
                {
                    "output_type": "stream", 
                    "name": "stdout", 
                    "text": "['this is line1\\n', 'this is line2']\n"
                }
            ], 
            "source": "with open(\"example2.txt\",\"r\") as file:\n    print(file.readlines())"
        }, 
        {
            "execution_count": 29, 
            "cell_type": "code", 
            "metadata": {}, 
            "outputs": [], 
            "source": "import pandas as pd\nlist=[\"amol,\",\"dhumal\",\"\\n\", \"james,\",\"bond\"]\nwith open(\"example.csv\",\"w\") as file:\n    file.writelines(list)"
        }, 
        {
            "execution_count": 32, 
            "cell_type": "code", 
            "metadata": {}, 
            "outputs": [
                {
                    "output_type": "stream", 
                    "name": "stdout", 
                    "text": "amol,dhumal\njames,bond\n"
                }, 
                {
                    "execution_count": 32, 
                    "metadata": {}, 
                    "data": {
                        "text/html": "<div>\n<style scoped>\n    .dataframe tbody tr th:only-of-type {\n        vertical-align: middle;\n    }\n\n    .dataframe tbody tr th {\n        vertical-align: top;\n    }\n\n    .dataframe thead th {\n        text-align: right;\n    }\n</style>\n<table border=\"1\" class=\"dataframe\">\n  <thead>\n    <tr style=\"text-align: right;\">\n      <th></th>\n      <th>a</th>\n      <th>b</th>\n    </tr>\n  </thead>\n  <tbody>\n    <tr>\n      <th>0</th>\n      <td>amol</td>\n      <td>dhumal</td>\n    </tr>\n    <tr>\n      <th>1</th>\n      <td>james</td>\n      <td>bond</td>\n    </tr>\n  </tbody>\n</table>\n</div>", 
                        "text/plain": "       a       b\n0   amol  dhumal\n1  james    bond"
                    }, 
                    "output_type": "execute_result"
                }
            ], 
            "source": "with open(\"example.csv\",\"r\") as file:\n    print(file.read())\ndf=pd.read_csv(\"example.csv\",names=['a','b'])\ndf"
        }, 
        {
            "execution_count": null, 
            "cell_type": "code", 
            "metadata": {}, 
            "outputs": [], 
            "source": ""
        }
    ], 
    "metadata": {
        "kernelspec": {
            "display_name": "Python 3.5", 
            "name": "python3", 
            "language": "python"
        }, 
        "language_info": {
            "mimetype": "text/x-python", 
            "nbconvert_exporter": "python", 
            "version": "3.5.5", 
            "name": "python", 
            "file_extension": ".py", 
            "pygments_lexer": "ipython3", 
            "codemirror_mode": {
                "version": 3, 
                "name": "ipython"
            }
        }
    }, 
    "nbformat": 4
}